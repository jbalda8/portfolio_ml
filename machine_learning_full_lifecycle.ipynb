{
 "cells": [
  {
   "cell_type": "code",
   "execution_count": 1,
   "metadata": {},
   "outputs": [],
   "source": [
    "import pandas as pd\n",
    "from catboost import CatBoostRegressor, Pool\n",
    "from ray.tune.search.hyperopt import HyperOptSearch\n",
    "from ray import tune\n",
    "from sklearn.model_selection import train_test_split\n",
    "from sklearn.linear_model import LinearRegression\n",
    "from sklearn.metrics import mean_squared_error\n",
    "\n",
    "from src.model_data.driver import RunAllMethods\n",
    "from src.ray_tuning.ray_tune import RayTune"
   ]
  },
  {
   "cell_type": "code",
   "execution_count": 2,
   "metadata": {},
   "outputs": [],
   "source": [
    "# seasons = list(range(2018, 2024))\n",
    "# end_date = '2023-07-13'\n",
    "\n",
    "# driver_class = RunAllMethods(seasons, end_date)\n",
    "# all_seasons = pd.DataFrame()\n",
    "\n",
    "# for season in driver_class:\n",
    "#     all_seasons = pd.concat([all_seasons, season])"
   ]
  },
  {
   "cell_type": "code",
   "execution_count": 3,
   "metadata": {},
   "outputs": [],
   "source": [
    "# all_seasons.to_csv('data/full_run_7_15.csv', index=False)"
   ]
  },
  {
   "attachments": {},
   "cell_type": "markdown",
   "metadata": {},
   "source": [
    "## Things to do/fix\n",
    "\n",
    "1) Case when a driver has multiple control messsages in a session\n",
    "2) Add docstrings:\n",
    "    - driver\n",
    "    - ray tune"
   ]
  },
  {
   "attachments": {},
   "cell_type": "markdown",
   "metadata": {},
   "source": [
    "## Execution"
   ]
  },
  {
   "cell_type": "code",
   "execution_count": 4,
   "metadata": {},
   "outputs": [],
   "source": [
    "season_df = pd.read_csv('data/full_run_7_15.csv')"
   ]
  },
  {
   "cell_type": "code",
   "execution_count": 5,
   "metadata": {},
   "outputs": [
    {
     "data": {
      "text/html": [
       "<div>\n",
       "<style scoped>\n",
       "    .dataframe tbody tr th:only-of-type {\n",
       "        vertical-align: middle;\n",
       "    }\n",
       "\n",
       "    .dataframe tbody tr th {\n",
       "        vertical-align: top;\n",
       "    }\n",
       "\n",
       "    .dataframe thead th {\n",
       "        text-align: right;\n",
       "    }\n",
       "</style>\n",
       "<table border=\"1\" class=\"dataframe\">\n",
       "  <thead>\n",
       "    <tr style=\"text-align: right;\">\n",
       "      <th></th>\n",
       "      <th>Driver</th>\n",
       "      <th>DriverNumber</th>\n",
       "      <th>Time_min</th>\n",
       "      <th>Time_max</th>\n",
       "      <th>LapTimeSeconds_min</th>\n",
       "      <th>LapTimeSeconds_max</th>\n",
       "      <th>LapTimeSeconds_mean</th>\n",
       "      <th>LapTimeSeconds_std</th>\n",
       "      <th>LapTimeSeconds_count</th>\n",
       "      <th>Sector1TimeSeconds_min</th>\n",
       "      <th>...</th>\n",
       "      <th>TeamId</th>\n",
       "      <th>CountryCode</th>\n",
       "      <th>SessionType</th>\n",
       "      <th>SeasonYear</th>\n",
       "      <th>EventName</th>\n",
       "      <th>Position</th>\n",
       "      <th>Points</th>\n",
       "      <th>Country</th>\n",
       "      <th>Location</th>\n",
       "      <th>RoundNumber</th>\n",
       "    </tr>\n",
       "  </thead>\n",
       "  <tbody>\n",
       "    <tr>\n",
       "      <th>0</th>\n",
       "      <td>ALO</td>\n",
       "      <td>14</td>\n",
       "      <td>0 days 00:30:47.908000</td>\n",
       "      <td>0 days 01:39:12.964000</td>\n",
       "      <td>85.896</td>\n",
       "      <td>115.334</td>\n",
       "      <td>93.453545</td>\n",
       "      <td>9.393776</td>\n",
       "      <td>11</td>\n",
       "      <td>28.485</td>\n",
       "      <td>...</td>\n",
       "      <td>mclaren</td>\n",
       "      <td>NaN</td>\n",
       "      <td>Practice 1</td>\n",
       "      <td>2018</td>\n",
       "      <td>Australian Grand Prix</td>\n",
       "      <td>5.0</td>\n",
       "      <td>10.0</td>\n",
       "      <td>Australia</td>\n",
       "      <td>Melbourne</td>\n",
       "      <td>1</td>\n",
       "    </tr>\n",
       "    <tr>\n",
       "      <th>1</th>\n",
       "      <td>ALO</td>\n",
       "      <td>14</td>\n",
       "      <td>0 days 00:12:20.531000</td>\n",
       "      <td>0 days 01:38:57.172000</td>\n",
       "      <td>85.200</td>\n",
       "      <td>148.222</td>\n",
       "      <td>98.449000</td>\n",
       "      <td>14.802200</td>\n",
       "      <td>23</td>\n",
       "      <td>28.165</td>\n",
       "      <td>...</td>\n",
       "      <td>mclaren</td>\n",
       "      <td>NaN</td>\n",
       "      <td>Practice 2</td>\n",
       "      <td>2018</td>\n",
       "      <td>Australian Grand Prix</td>\n",
       "      <td>5.0</td>\n",
       "      <td>10.0</td>\n",
       "      <td>Australia</td>\n",
       "      <td>Melbourne</td>\n",
       "      <td>1</td>\n",
       "    </tr>\n",
       "    <tr>\n",
       "      <th>2</th>\n",
       "      <td>ALO</td>\n",
       "      <td>14</td>\n",
       "      <td>0 days 00:23:58.601000</td>\n",
       "      <td>0 days 01:05:05.890000</td>\n",
       "      <td>94.298</td>\n",
       "      <td>122.320</td>\n",
       "      <td>105.187667</td>\n",
       "      <td>10.557891</td>\n",
       "      <td>9</td>\n",
       "      <td>30.927</td>\n",
       "      <td>...</td>\n",
       "      <td>mclaren</td>\n",
       "      <td>NaN</td>\n",
       "      <td>Practice 3</td>\n",
       "      <td>2018</td>\n",
       "      <td>Australian Grand Prix</td>\n",
       "      <td>5.0</td>\n",
       "      <td>10.0</td>\n",
       "      <td>Australia</td>\n",
       "      <td>Melbourne</td>\n",
       "      <td>1</td>\n",
       "    </tr>\n",
       "    <tr>\n",
       "      <th>3</th>\n",
       "      <td>BOT</td>\n",
       "      <td>77</td>\n",
       "      <td>0 days 00:25:57.761000</td>\n",
       "      <td>0 days 01:39:48.848000</td>\n",
       "      <td>84.577</td>\n",
       "      <td>122.941</td>\n",
       "      <td>96.972792</td>\n",
       "      <td>13.029348</td>\n",
       "      <td>24</td>\n",
       "      <td>28.037</td>\n",
       "      <td>...</td>\n",
       "      <td>mercedes</td>\n",
       "      <td>NaN</td>\n",
       "      <td>Practice 1</td>\n",
       "      <td>2018</td>\n",
       "      <td>Australian Grand Prix</td>\n",
       "      <td>8.0</td>\n",
       "      <td>4.0</td>\n",
       "      <td>Australia</td>\n",
       "      <td>Melbourne</td>\n",
       "      <td>1</td>\n",
       "    </tr>\n",
       "    <tr>\n",
       "      <th>4</th>\n",
       "      <td>BOT</td>\n",
       "      <td>77</td>\n",
       "      <td>0 days 00:12:42.794000</td>\n",
       "      <td>0 days 01:39:37.880000</td>\n",
       "      <td>84.159</td>\n",
       "      <td>130.373</td>\n",
       "      <td>96.584207</td>\n",
       "      <td>12.853744</td>\n",
       "      <td>29</td>\n",
       "      <td>27.725</td>\n",
       "      <td>...</td>\n",
       "      <td>mercedes</td>\n",
       "      <td>NaN</td>\n",
       "      <td>Practice 2</td>\n",
       "      <td>2018</td>\n",
       "      <td>Australian Grand Prix</td>\n",
       "      <td>8.0</td>\n",
       "      <td>4.0</td>\n",
       "      <td>Australia</td>\n",
       "      <td>Melbourne</td>\n",
       "      <td>1</td>\n",
       "    </tr>\n",
       "  </tbody>\n",
       "</table>\n",
       "<p>5 rows × 73 columns</p>\n",
       "</div>"
      ],
      "text/plain": [
       "  Driver  DriverNumber                Time_min                Time_max  \\\n",
       "0    ALO            14  0 days 00:30:47.908000  0 days 01:39:12.964000   \n",
       "1    ALO            14  0 days 00:12:20.531000  0 days 01:38:57.172000   \n",
       "2    ALO            14  0 days 00:23:58.601000  0 days 01:05:05.890000   \n",
       "3    BOT            77  0 days 00:25:57.761000  0 days 01:39:48.848000   \n",
       "4    BOT            77  0 days 00:12:42.794000  0 days 01:39:37.880000   \n",
       "\n",
       "   LapTimeSeconds_min  LapTimeSeconds_max  LapTimeSeconds_mean  \\\n",
       "0              85.896             115.334            93.453545   \n",
       "1              85.200             148.222            98.449000   \n",
       "2              94.298             122.320           105.187667   \n",
       "3              84.577             122.941            96.972792   \n",
       "4              84.159             130.373            96.584207   \n",
       "\n",
       "   LapTimeSeconds_std  LapTimeSeconds_count  Sector1TimeSeconds_min  ...  \\\n",
       "0            9.393776                    11                  28.485  ...   \n",
       "1           14.802200                    23                  28.165  ...   \n",
       "2           10.557891                     9                  30.927  ...   \n",
       "3           13.029348                    24                  28.037  ...   \n",
       "4           12.853744                    29                  27.725  ...   \n",
       "\n",
       "     TeamId  CountryCode  SessionType  SeasonYear              EventName  \\\n",
       "0   mclaren          NaN   Practice 1        2018  Australian Grand Prix   \n",
       "1   mclaren          NaN   Practice 2        2018  Australian Grand Prix   \n",
       "2   mclaren          NaN   Practice 3        2018  Australian Grand Prix   \n",
       "3  mercedes          NaN   Practice 1        2018  Australian Grand Prix   \n",
       "4  mercedes          NaN   Practice 2        2018  Australian Grand Prix   \n",
       "\n",
       "   Position  Points    Country   Location  RoundNumber  \n",
       "0       5.0    10.0  Australia  Melbourne            1  \n",
       "1       5.0    10.0  Australia  Melbourne            1  \n",
       "2       5.0    10.0  Australia  Melbourne            1  \n",
       "3       8.0     4.0  Australia  Melbourne            1  \n",
       "4       8.0     4.0  Australia  Melbourne            1  \n",
       "\n",
       "[5 rows x 73 columns]"
      ]
     },
     "execution_count": 5,
     "metadata": {},
     "output_type": "execute_result"
    }
   ],
   "source": [
    "season_df.head()"
   ]
  },
  {
   "attachments": {},
   "cell_type": "markdown",
   "metadata": {},
   "source": [
    "## Testing Catboost"
   ]
  },
  {
   "cell_type": "code",
   "execution_count": 6,
   "metadata": {},
   "outputs": [],
   "source": [
    "model_data = season_df.drop(['Time_min', 'Time_max'], axis=1).copy()\n",
    "model_data = model_data.dropna(subset=['Points'])\n",
    "\n",
    "categorical_features = ['Driver', 'DriverNumber', 'Category', 'TeamId',        'CountryCode', 'Country', 'Location', 'EventName', 'SessionType', 'SeasonYear']\n",
    "\n",
    "integer_features = ['IsPersonalBest_pr_lap', 'RoundNumber', 'SeasonYear']\n",
    "\n",
    "float_features = list(set(model_data.columns) - \n",
    "                      set(categorical_features) - \n",
    "                      set(integer_features))\n",
    "\n",
    "for feature in categorical_features:\n",
    "    model_data[feature] = model_data[feature].astype(object)\n",
    "\n",
    "for feature in integer_features:\n",
    "    model_data[feature] = model_data[feature].astype(int)\n",
    "\n",
    "for feature in float_features:\n",
    "    model_data[feature] = model_data[feature].astype(float)\n"
   ]
  },
  {
   "cell_type": "code",
   "execution_count": 7,
   "metadata": {},
   "outputs": [],
   "source": [
    "model_data.loc[:,model_data.dtypes == object] = (\n",
    "    model_data.loc[:,model_data.dtypes == object].fillna('-1')\n",
    ")\n",
    "model_data.loc[:,model_data.dtypes != object] = (\n",
    "    model_data.loc[:,model_data.dtypes != object].fillna(-1)\n",
    ")\n",
    "model_data[['DriverNumber', 'RoundNumber']] = (\n",
    "    model_data[['DriverNumber', 'RoundNumber']].astype(object)\n",
    ")"
   ]
  },
  {
   "cell_type": "code",
   "execution_count": 8,
   "metadata": {},
   "outputs": [],
   "source": [
    "train_data = model_data.query('SeasonYear < 2023 or RoundNumber < 5')\n",
    "\n",
    "test_data = model_data.query('RoundNumber >= 5 & SeasonYear == 2023')"
   ]
  },
  {
   "cell_type": "code",
   "execution_count": 9,
   "metadata": {},
   "outputs": [],
   "source": [
    "X = train_data.drop(['Points'], axis=1)\n",
    "y = train_data.Points\n",
    "\n",
    "\n",
    "X_train, X_val, y_train, y_val = train_test_split(X,\n",
    "                                                  y, \n",
    "                                                  test_size=0.2,\n",
    "                                                  stratify=X['Position'])\n",
    "\n",
    "X_test = test_data.drop(['Points', 'Position'], axis=1)\n",
    "y_test = test_data.Points\n",
    "\n",
    "X_train = X_train.drop(['Position'], axis=1)\n",
    "X_val = X_val.drop(['Position'], axis=1)"
   ]
  },
  {
   "cell_type": "code",
   "execution_count": 10,
   "metadata": {},
   "outputs": [],
   "source": [
    "categorical_columns_indices = [i for i, dtype in enumerate(X_train.dtypes) \n",
    "                               if dtype == object]"
   ]
  },
  {
   "cell_type": "code",
   "execution_count": 11,
   "metadata": {},
   "outputs": [],
   "source": [
    "train_pool = Pool(X_train, y_train, cat_features=categorical_columns_indices)\n",
    "val_pool = Pool(X_val, y_val, cat_features=categorical_columns_indices)"
   ]
  },
  {
   "cell_type": "code",
   "execution_count": 15,
   "metadata": {},
   "outputs": [],
   "source": [
    "space = {\n",
    "    \"learning_rate\": tune.loguniform(1e-2, 1),\n",
    "    \"depth\": tune.randint(4, 12),\n",
    "    \"l2_leaf_reg\": tune.randint(1, 40),\n",
    "    \"min_data_in_leaf\": tune.randint(1, 40),\n",
    "    \"iterations\": tune.randint(10, 300)\n",
    "}\n",
    "\n",
    "data = {'X_train': X_train,\n",
    "        'X_val': X_val,\n",
    "        'y_train': y_train, \n",
    "        'y_val': y_val, \n",
    "        'fit_params': {\n",
    "            'early_stopping_rounds': 2,\n",
    "            'verbose': False\n",
    "        },\n",
    "        'cat_features': categorical_columns_indices,\n",
    "        'metric': 'RMSE'\n",
    "        }\n",
    "\n",
    "hyperopt_search = HyperOptSearch(metric=\"rmse\", mode=\"min\")"
   ]
  },
  {
   "cell_type": "code",
   "execution_count": 16,
   "metadata": {},
   "outputs": [
    {
     "name": "stderr",
     "output_type": "stream",
     "text": [
      "2023-07-15 13:51:46,073\tINFO worker.py:1627 -- Started a local Ray instance. View the dashboard at \u001b[1m\u001b[32mhttp://127.0.0.1:8265 \u001b[39m\u001b[22m\n"
     ]
    },
    {
     "data": {
      "text/html": [
       "<div class=\"tuneStatus\">\n",
       "  <div style=\"display: flex;flex-direction: row\">\n",
       "    <div style=\"display: flex;flex-direction: column;\">\n",
       "      <h3>Tune Status</h3>\n",
       "      <table>\n",
       "<tbody>\n",
       "<tr><td>Current time:</td><td>2023-07-15 13:51:49</td></tr>\n",
       "<tr><td>Running for: </td><td>00:00:03.42        </td></tr>\n",
       "<tr><td>Memory:      </td><td>7.9/46.8 GiB       </td></tr>\n",
       "</tbody>\n",
       "</table>\n",
       "    </div>\n",
       "    <div class=\"vDivider\"></div>\n",
       "    <div class=\"systemInfo\">\n",
       "      <h3>System Info</h3>\n",
       "      Using FIFO scheduling algorithm.<br>Logical resource usage: 4.0/24 CPUs, 0.2/1 GPUs (0.0/1.0 accelerator_type:G)\n",
       "    </div>\n",
       "    \n",
       "  </div>\n",
       "  <div class=\"hDivider\"></div>\n",
       "  <div class=\"trialStatus\">\n",
       "    <h3>Trial Status</h3>\n",
       "    <table>\n",
       "<thead>\n",
       "<tr><th>Trial name        </th><th>status    </th><th>loc                </th><th style=\"text-align: right;\">  depth</th><th style=\"text-align: right;\">  iterations</th><th style=\"text-align: right;\">  l2_leaf_reg</th><th style=\"text-align: right;\">  learning_rate</th><th style=\"text-align: right;\">  min_data_in_leaf</th><th style=\"text-align: right;\">  iter</th><th style=\"text-align: right;\">  total time (s)</th><th style=\"text-align: right;\">   rmse</th></tr>\n",
       "</thead>\n",
       "<tbody>\n",
       "<tr><td>objective_3482ba54</td><td>TERMINATED</td><td>192.168.0.162:30032</td><td style=\"text-align: right;\">      7</td><td style=\"text-align: right;\">         144</td><td style=\"text-align: right;\">            6</td><td style=\"text-align: right;\">      0.0129058</td><td style=\"text-align: right;\">                 8</td><td style=\"text-align: right;\">     1</td><td style=\"text-align: right;\">        0.631055</td><td style=\"text-align: right;\">5.05677</td></tr>\n",
       "<tr><td>objective_288a7063</td><td>TERMINATED</td><td>192.168.0.162:30032</td><td style=\"text-align: right;\">      4</td><td style=\"text-align: right;\">         173</td><td style=\"text-align: right;\">            7</td><td style=\"text-align: right;\">      0.0332567</td><td style=\"text-align: right;\">                32</td><td style=\"text-align: right;\">     1</td><td style=\"text-align: right;\">        0.182198</td><td style=\"text-align: right;\">4.80266</td></tr>\n",
       "<tr><td>objective_ab226055</td><td>TERMINATED</td><td>192.168.0.162:30032</td><td style=\"text-align: right;\">      8</td><td style=\"text-align: right;\">         107</td><td style=\"text-align: right;\">           31</td><td style=\"text-align: right;\">      0.376847 </td><td style=\"text-align: right;\">                11</td><td style=\"text-align: right;\">     1</td><td style=\"text-align: right;\">        0.248373</td><td style=\"text-align: right;\">4.61404</td></tr>\n",
       "<tr><td>objective_2ffd479d</td><td>TERMINATED</td><td>192.168.0.162:30032</td><td style=\"text-align: right;\">      7</td><td style=\"text-align: right;\">         288</td><td style=\"text-align: right;\">           28</td><td style=\"text-align: right;\">      0.015768 </td><td style=\"text-align: right;\">                15</td><td style=\"text-align: right;\">     1</td><td style=\"text-align: right;\">        1.63139 </td><td style=\"text-align: right;\">4.08377</td></tr>\n",
       "<tr><td>objective_990a3a4c</td><td>TERMINATED</td><td>192.168.0.162:30411</td><td style=\"text-align: right;\">      5</td><td style=\"text-align: right;\">         168</td><td style=\"text-align: right;\">            7</td><td style=\"text-align: right;\">      0.0463223</td><td style=\"text-align: right;\">                 1</td><td style=\"text-align: right;\">     1</td><td style=\"text-align: right;\">        0.407164</td><td style=\"text-align: right;\">4.76005</td></tr>\n",
       "</tbody>\n",
       "</table>\n",
       "  </div>\n",
       "</div>\n",
       "<style>\n",
       ".tuneStatus {\n",
       "  color: var(--jp-ui-font-color1);\n",
       "}\n",
       ".tuneStatus .systemInfo {\n",
       "  display: flex;\n",
       "  flex-direction: column;\n",
       "}\n",
       ".tuneStatus td {\n",
       "  white-space: nowrap;\n",
       "}\n",
       ".tuneStatus .trialStatus {\n",
       "  display: flex;\n",
       "  flex-direction: column;\n",
       "}\n",
       ".tuneStatus h3 {\n",
       "  font-weight: bold;\n",
       "}\n",
       ".tuneStatus .hDivider {\n",
       "  border-bottom-width: var(--jp-border-width);\n",
       "  border-bottom-color: var(--jp-border-color0);\n",
       "  border-bottom-style: solid;\n",
       "}\n",
       ".tuneStatus .vDivider {\n",
       "  border-left-width: var(--jp-border-width);\n",
       "  border-left-color: var(--jp-border-color0);\n",
       "  border-left-style: solid;\n",
       "  margin: 0.5em 1em 0.5em 1em;\n",
       "}\n",
       "</style>\n"
      ],
      "text/plain": [
       "<IPython.core.display.HTML object>"
      ]
     },
     "metadata": {},
     "output_type": "display_data"
    },
    {
     "data": {
      "text/html": [
       "<div class=\"trialProgress\">\n",
       "  <h3>Trial Progress</h3>\n",
       "  <table>\n",
       "<thead>\n",
       "<tr><th>Trial name        </th><th>date               </th><th>done  </th><th>hostname                    </th><th style=\"text-align: right;\">  iterations_since_restore</th><th>node_ip      </th><th style=\"text-align: right;\">  pid</th><th style=\"text-align: right;\">   rmse</th><th style=\"text-align: right;\">  time_since_restore</th><th style=\"text-align: right;\">  time_this_iter_s</th><th style=\"text-align: right;\">  time_total_s</th><th style=\"text-align: right;\">  timestamp</th><th style=\"text-align: right;\">  training_iteration</th><th>trial_id  </th></tr>\n",
       "</thead>\n",
       "<tbody>\n",
       "<tr><td>objective_288a7063</td><td>2023-07-15_13-51-48</td><td>True  </td><td>jbalda-B660-GAMING-X-AX-DDR4</td><td style=\"text-align: right;\">                         1</td><td>192.168.0.162</td><td style=\"text-align: right;\">30032</td><td style=\"text-align: right;\">4.80266</td><td style=\"text-align: right;\">            0.182198</td><td style=\"text-align: right;\">          0.182198</td><td style=\"text-align: right;\">      0.182198</td><td style=\"text-align: right;\"> 1689443508</td><td style=\"text-align: right;\">                   1</td><td>288a7063  </td></tr>\n",
       "<tr><td>objective_3482ba54</td><td>2023-07-15_13-51-47</td><td>True  </td><td>jbalda-B660-GAMING-X-AX-DDR4</td><td style=\"text-align: right;\">                         1</td><td>192.168.0.162</td><td style=\"text-align: right;\">30032</td><td style=\"text-align: right;\">5.05677</td><td style=\"text-align: right;\">            0.631055</td><td style=\"text-align: right;\">          0.631055</td><td style=\"text-align: right;\">      0.631055</td><td style=\"text-align: right;\"> 1689443507</td><td style=\"text-align: right;\">                   1</td><td>3482ba54  </td></tr>\n",
       "<tr><td>objective_990a3a4c</td><td>2023-07-15_13-51-49</td><td>True  </td><td>jbalda-B660-GAMING-X-AX-DDR4</td><td style=\"text-align: right;\">                         1</td><td>192.168.0.162</td><td style=\"text-align: right;\">30411</td><td style=\"text-align: right;\">4.76005</td><td style=\"text-align: right;\">            0.407164</td><td style=\"text-align: right;\">          0.407164</td><td style=\"text-align: right;\">      0.407164</td><td style=\"text-align: right;\"> 1689443509</td><td style=\"text-align: right;\">                   1</td><td>990a3a4c  </td></tr>\n",
       "<tr><td>objective_ab226055</td><td>2023-07-15_13-51-48</td><td>True  </td><td>jbalda-B660-GAMING-X-AX-DDR4</td><td style=\"text-align: right;\">                         1</td><td>192.168.0.162</td><td style=\"text-align: right;\">30032</td><td style=\"text-align: right;\">4.61404</td><td style=\"text-align: right;\">            0.248373</td><td style=\"text-align: right;\">          0.248373</td><td style=\"text-align: right;\">      0.248373</td><td style=\"text-align: right;\"> 1689443508</td><td style=\"text-align: right;\">                   1</td><td>ab226055  </td></tr>\n",
       "</tbody>\n",
       "</table>\n",
       "</div>\n",
       "<style>\n",
       ".trialProgress {\n",
       "  display: flex;\n",
       "  flex-direction: column;\n",
       "  color: var(--jp-ui-font-color1);\n",
       "}\n",
       ".trialProgress h3 {\n",
       "  font-weight: bold;\n",
       "}\n",
       ".trialProgress td {\n",
       "  white-space: nowrap;\n",
       "}\n",
       "</style>\n"
      ],
      "text/plain": [
       "<IPython.core.display.HTML object>"
      ]
     },
     "metadata": {},
     "output_type": "display_data"
    },
    {
     "name": "stderr",
     "output_type": "stream",
     "text": [
      "2023-07-15 13:51:49,966\tINFO tune.py:1111 -- Total run time: 3.42 seconds (3.42 seconds for the tuning loop).\n"
     ]
    }
   ],
   "source": [
    "tuning_class = RayTune(hyperopt_search, space, data)\n",
    "\n",
    "tuning_config = {'num_gpus': 1}\n",
    "cpu_per_trial = 4\n",
    "gpu_per_trial = 0.2\n",
    "max_concurrent_trials = 5\n",
    "num_samples = 5\n",
    "\n",
    "results = (\n",
    "    tuning_class.tuner(tuning_config,\n",
    "                       cpu_per_trial,\n",
    "                       gpu_per_trial,\n",
    "                       max_concurrent_trials,\n",
    "                       num_samples)\n",
    ")"
   ]
  },
  {
   "cell_type": "code",
   "execution_count": null,
   "metadata": {},
   "outputs": [],
   "source": [
    "best_result = results.get_best_result(metric='rmse', mode='min')\n",
    "best_result.config"
   ]
  },
  {
   "cell_type": "code",
   "execution_count": null,
   "metadata": {},
   "outputs": [],
   "source": [
    "params = best_result.config\n",
    "\n",
    "model = CatBoostRegressor(**params, eval_metric='RMSE', task_type='GPU')\n",
    "model.fit(train_pool, eval_set=val_pool, plot=True, early_stopping_rounds=5)"
   ]
  },
  {
   "cell_type": "code",
   "execution_count": null,
   "metadata": {},
   "outputs": [],
   "source": [
    "feature_importance = pd.DataFrame({'Feature': model.feature_names_, \n",
    "                                   'Importance': model.feature_importances_})\n",
    "\n",
    "feature_importance.sort_values('Importance',\n",
    "                               ascending=False).reset_index(drop=True)"
   ]
  },
  {
   "attachments": {},
   "cell_type": "markdown",
   "metadata": {},
   "source": [
    "## Catboost for combination of predictions"
   ]
  },
  {
   "cell_type": "code",
   "execution_count": null,
   "metadata": {},
   "outputs": [],
   "source": [
    "complete_events_mask = (\n",
    "    train_data.groupby(['Driver', 'EventName', 'SeasonYear'])\n",
    "    ['SessionType'].nunique() == 4\n",
    ")\n",
    "\n",
    "filtered_df = train_data.merge(complete_events_mask,\n",
    "                      left_on=['Driver', 'EventName', 'SeasonYear'], right_index=True)\n",
    "filtered_df = filtered_df.query('SessionType_y == True')\n",
    "filtered_df = (\n",
    "    filtered_df.sort_values(['SeasonYear',\n",
    "                             'RoundNumber',\n",
    "                             'Driver',\n",
    "                             'SessionType_x'], ascending=False)\n",
    "                             .reset_index(drop=True)\n",
    "                             .drop('SessionType_y', axis=1)\n",
    ")\n",
    "filtered_df = filtered_df.rename(columns={'SessionType_x': 'SessionType'})\n",
    "\n",
    "filtered_df_X = filtered_df[X_train.columns].copy()\n",
    "points = filtered_df.Points[::4]\n",
    "\n",
    "y_train_pred = model.predict(filtered_df_X)\n",
    "\n",
    "reg_features = y_train_pred.reshape(-1, 4)\n",
    "\n",
    "X_train_reg, X_val_reg, y_train_reg, y_val_reg = (\n",
    "    train_test_split(reg_features, points)\n",
    ")"
   ]
  },
  {
   "cell_type": "code",
   "execution_count": null,
   "metadata": {},
   "outputs": [],
   "source": [
    "space = {\n",
    "    \"learning_rate\": tune.loguniform(1e-2, 1),\n",
    "    \"depth\": tune.randint(4, 12),\n",
    "    \"l2_leaf_reg\": tune.randint(1, 40),\n",
    "    \"min_data_in_leaf\": tune.randint(1, 40),\n",
    "    \"iterations\": tune.randint(10, 300)\n",
    "}\n",
    "\n",
    "hyperopt_search = HyperOptSearch(metric=\"rmse\", mode=\"min\")\n",
    "trainable_with_cpu_gpu = tune.with_resources(objective, {\"cpu\" : 4, \"gpu\": 0.2})\n",
    "\n",
    "data = (X_train_reg, y_train_reg, X_val_reg, y_val_reg, None)\n",
    "\n",
    "# Create Tuner object\n",
    "tuner = tune.Tuner(\n",
    "    tune.with_parameters(trainable_with_cpu_gpu, data=data),\n",
    "    tune_config=tune.TuneConfig(\n",
    "        search_alg=hyperopt_search,\n",
    "        max_concurrent_trials=5, \n",
    "        num_samples=200\n",
    "    ),\n",
    "    param_space=space,\n",
    ")\n",
    "\n",
    "# Fit Tuner\n",
    "results = tuner.fit()"
   ]
  },
  {
   "cell_type": "code",
   "execution_count": null,
   "metadata": {},
   "outputs": [],
   "source": [
    "cb = CatBoostRegressor(**results.get_best_result(metric='rmse', mode='min').config)\n",
    "cb.fit(X_train_reg, y_train_reg, eval_set=(X_val_reg, y_val_reg))"
   ]
  },
  {
   "cell_type": "code",
   "execution_count": null,
   "metadata": {},
   "outputs": [],
   "source": [
    "cb.feature_importances_"
   ]
  },
  {
   "cell_type": "code",
   "execution_count": null,
   "metadata": {},
   "outputs": [],
   "source": [
    "reg_pred = cb.predict(X_val_reg)\n",
    "\n",
    "rmse = mean_squared_error(y_val_reg, reg_pred)**(1/2)\n",
    "rmse"
   ]
  },
  {
   "attachments": {},
   "cell_type": "markdown",
   "metadata": {},
   "source": [
    "## Testing"
   ]
  },
  {
   "cell_type": "code",
   "execution_count": null,
   "metadata": {},
   "outputs": [],
   "source": [
    "test_1 = (\n",
    "    test_data.sort_values(['DriverNumber',\n",
    "                        'RoundNumber',\n",
    "                        'SessionType'])\n",
    "                        .reset_index(drop=True)\n",
    "                        .query('RoundNumber == 5')\n",
    ")\n",
    "\n",
    "results = test_1[['Driver', 'EventName', 'SeasonYear', 'Position', 'Points']]\n",
    "\n",
    "predictions_1 = model.predict(test_1.drop(['Position', 'Points'], axis=1))\n",
    "predictions_1_reg = predictions_1.reshape(-1, 4)\n",
    "\n",
    "predictions_1 = lm.predict(predictions_1_reg)\n",
    "\n",
    "results_select = results.iloc[::4].reset_index(drop=True)\n",
    "results_select['PredictedPoints'] = predictions_1\n",
    "\n",
    "results_select.sort_values('PredictedPoints',\n",
    "                           ascending=False).reset_index(drop=True)"
   ]
  },
  {
   "attachments": {},
   "cell_type": "markdown",
   "metadata": {},
   "source": [
    "## Procedure\n",
    "\n",
    "1) Create Season from **F1Season()** class and update dataframe from **update_season_dataframe()** method\n",
    "2) For each session, pass lap data into **prepare_lap_data()** function\n",
    "3) For each row in this lap data, pass into **weather_for_racer()** function\n",
    "4) Join control message data to session data\n",
    "5) Join driver data to session data"
   ]
  }
 ],
 "metadata": {
  "kernelspec": {
   "display_name": "portfolio",
   "language": "python",
   "name": "python3"
  },
  "language_info": {
   "codemirror_mode": {
    "name": "ipython",
    "version": 3
   },
   "file_extension": ".py",
   "mimetype": "text/x-python",
   "name": "python",
   "nbconvert_exporter": "python",
   "pygments_lexer": "ipython3",
   "version": "3.11.3"
  },
  "orig_nbformat": 4
 },
 "nbformat": 4,
 "nbformat_minor": 2
}
