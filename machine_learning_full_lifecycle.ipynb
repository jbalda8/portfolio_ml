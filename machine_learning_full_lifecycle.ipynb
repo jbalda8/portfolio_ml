{
 "cells": [
  {
   "cell_type": "code",
   "execution_count": 8,
   "metadata": {},
   "outputs": [],
   "source": [
    "import pandas as pd\n",
    "from catboost import CatBoostRegressor, Pool\n",
    "import ray\n",
    "from ray import tune\n",
    "from ray.tune.search.hyperopt import HyperOptSearch\n",
    "from ray.air import session\n",
    "from sklearn.model_selection import train_test_split\n",
    "from sklearn.linear_model import LinearRegression\n",
    "from sklearn.metrics import mean_squared_error\n",
    "from fastf1 import get_event, get_session\n",
    "\n",
    "from src.model_data.driver import RunAllMethods"
   ]
  },
  {
   "cell_type": "code",
   "execution_count": null,
   "metadata": {},
   "outputs": [],
   "source": [
    "seasons = list(range(2018, 2024))\n",
    "end_date = '2023-07-13'\n",
    "\n",
    "driver_class = RunAllMethods(seasons, end_date)\n",
    "all_seasons = pd.DataFrame()\n",
    "\n",
    "for season in driver_class:\n",
    "    all_seasons = pd.concat([all_seasons, season])"
   ]
  },
  {
   "cell_type": "code",
   "execution_count": null,
   "metadata": {},
   "outputs": [],
   "source": [
    "all_seasons.to_csv('data/full_run_7_13.csv', index=False)"
   ]
  },
  {
   "attachments": {},
   "cell_type": "markdown",
   "metadata": {},
   "source": [
    "## Things to do/fix\n",
    "\n",
    "1) Case when a driver has multiple control messsages in a session\n",
    "2) Driver class\n",
    "3) Add relative driver and team points at time of pre-race (or wait till all data is pulled)\n",
    "4) Add docstrings:\n",
    "    - driver"
   ]
  },
  {
   "attachments": {},
   "cell_type": "markdown",
   "metadata": {},
   "source": [
    "## Execution"
   ]
  },
  {
   "cell_type": "code",
   "execution_count": 10,
   "metadata": {},
   "outputs": [],
   "source": [
    "season_df = pd.read_csv('data/data.csv')"
   ]
  },
  {
   "attachments": {},
   "cell_type": "markdown",
   "metadata": {},
   "source": [
    "## Testing Catboost"
   ]
  },
  {
   "cell_type": "code",
   "execution_count": 11,
   "metadata": {},
   "outputs": [],
   "source": [
    "model_data = season_df.drop(['Time_min', 'Time_max'], axis=1).copy()\n",
    "model_data = model_data.dropna(subset=['Points'])\n",
    "\n",
    "categorical_features = ['Driver', 'DriverNumber', 'Category', 'TeamId',        'CountryCode', 'Country', 'Location', 'EventName', 'SessionType', 'SeasonYear']\n",
    "\n",
    "integer_features = ['IsPersonalBest_pr_lap', 'LocalOrder', 'SeasonYear']\n",
    "\n",
    "float_features = list(set(model_data.columns) - \n",
    "                      set(categorical_features) - \n",
    "                      set(integer_features))\n",
    "\n",
    "for feature in categorical_features:\n",
    "    model_data[feature] = model_data[feature].astype(object)\n",
    "\n",
    "for feature in integer_features:\n",
    "    model_data[feature] = model_data[feature].astype(int)\n",
    "\n",
    "for feature in float_features:\n",
    "    model_data[feature] = model_data[feature].astype(float)\n"
   ]
  },
  {
   "cell_type": "code",
   "execution_count": 12,
   "metadata": {},
   "outputs": [],
   "source": [
    "model_data.loc[:,model_data.dtypes == object] = (\n",
    "    model_data.loc[:,model_data.dtypes == object].fillna('-1')\n",
    ")\n",
    "model_data.loc[:,model_data.dtypes != object] = (\n",
    "    model_data.loc[:,model_data.dtypes != object].fillna(-1)\n",
    ")\n",
    "model_data[['DriverNumber', 'LocalOrder']] = (\n",
    "    model_data[['DriverNumber', 'LocalOrder']].astype(object)\n",
    ")"
   ]
  },
  {
   "cell_type": "code",
   "execution_count": 13,
   "metadata": {},
   "outputs": [],
   "source": [
    "train_data = model_data.query('SeasonYear < 2023 or LocalOrder < 5')\n",
    "\n",
    "test_data = model_data.query('LocalOrder >= 5 & SeasonYear == 2023')"
   ]
  },
  {
   "cell_type": "code",
   "execution_count": 14,
   "metadata": {},
   "outputs": [],
   "source": [
    "X = train_data.drop(['Points'], axis=1)\n",
    "y = train_data.Points\n",
    "\n",
    "\n",
    "X_train, X_val, y_train, y_val = train_test_split(X,\n",
    "                                                  y, \n",
    "                                                  test_size=0.2,\n",
    "                                                  stratify=X['Position'])\n",
    "\n",
    "X_test = test_data.drop(['Points', 'Position'], axis=1)\n",
    "y_test = test_data.Points\n",
    "\n",
    "X_train = X_train.drop(['Position'], axis=1)\n",
    "X_val = X_val.drop(['Position'], axis=1)"
   ]
  },
  {
   "cell_type": "code",
   "execution_count": 15,
   "metadata": {},
   "outputs": [],
   "source": [
    "categorical_columns_indices = [i for i, dtype in enumerate(X_train.dtypes) \n",
    "                               if dtype == object]"
   ]
  },
  {
   "cell_type": "code",
   "execution_count": 16,
   "metadata": {},
   "outputs": [],
   "source": [
    "train_pool = Pool(X_train, y_train, cat_features=categorical_columns_indices)\n",
    "val_pool = Pool(X_val, y_val, cat_features=categorical_columns_indices)"
   ]
  },
  {
   "cell_type": "code",
   "execution_count": 17,
   "metadata": {},
   "outputs": [
    {
     "name": "stderr",
     "output_type": "stream",
     "text": [
      "2023-07-13 23:05:57,864\tINFO worker.py:1627 -- Started a local Ray instance. View the dashboard at \u001b[1m\u001b[32mhttp://127.0.0.1:8265 \u001b[39m\u001b[22m\n"
     ]
    },
    {
     "data": {
      "text/html": [
       "<div>\n",
       "    <div style=\"margin-left: 50px;display: flex;flex-direction: row;align-items: center\">\n",
       "        <h3 style=\"color: var(--jp-ui-font-color0)\">Ray</h3>\n",
       "        <svg version=\"1.1\" id=\"ray\" width=\"3em\" viewBox=\"0 0 144.5 144.6\" style=\"margin-left: 3em;margin-right: 3em\">\n",
       "            <g id=\"layer-1\">\n",
       "                <path fill=\"#00a2e9\" class=\"st0\" d=\"M97.3,77.2c-3.8-1.1-6.2,0.9-8.3,5.1c-3.5,6.8-9.9,9.9-17.4,9.6S58,88.1,54.8,81.2c-1.4-3-3-4-6.3-4.1\n",
       "                    c-5.6-0.1-9.9,0.1-13.1,6.4c-3.8,7.6-13.6,10.2-21.8,7.6C5.2,88.4-0.4,80.5,0,71.7c0.1-8.4,5.7-15.8,13.8-18.2\n",
       "                    c8.4-2.6,17.5,0.7,22.3,8c1.3,1.9,1.3,5.2,3.6,5.6c3.9,0.6,8,0.2,12,0.2c1.8,0,1.9-1.6,2.4-2.8c3.5-7.8,9.7-11.8,18-11.9\n",
       "                    c8.2-0.1,14.4,3.9,17.8,11.4c1.3,2.8,2.9,3.6,5.7,3.3c1-0.1,2,0.1,3,0c2.8-0.5,6.4,1.7,8.1-2.7s-2.3-5.5-4.1-7.5\n",
       "                    c-5.1-5.7-10.9-10.8-16.1-16.3C84,38,81.9,37.1,78,38.3C66.7,42,56.2,35.7,53,24.1C50.3,14,57.3,2.8,67.7,0.5\n",
       "                    C78.4-2,89,4.7,91.5,15.3c0.1,0.3,0.1,0.5,0.2,0.8c0.7,3.4,0.7,6.9-0.8,9.8c-1.7,3.2-0.8,5,1.5,7.2c6.7,6.5,13.3,13,19.8,19.7\n",
       "                    c1.8,1.8,3,2.1,5.5,1.2c9.1-3.4,17.9-0.6,23.4,7c4.8,6.9,4.6,16.1-0.4,22.9c-5.4,7.2-14.2,9.9-23.1,6.5c-2.3-0.9-3.5-0.6-5.1,1.1\n",
       "                    c-6.7,6.9-13.6,13.7-20.5,20.4c-1.8,1.8-2.5,3.2-1.4,5.9c3.5,8.7,0.3,18.6-7.7,23.6c-7.9,5-18.2,3.8-24.8-2.9\n",
       "                    c-6.4-6.4-7.4-16.2-2.5-24.3c4.9-7.8,14.5-11,23.1-7.8c3,1.1,4.7,0.5,6.9-1.7C91.7,98.4,98,92.3,104.2,86c1.6-1.6,4.1-2.7,2.6-6.2\n",
       "                    c-1.4-3.3-3.8-2.5-6.2-2.6C99.8,77.2,98.9,77.2,97.3,77.2z M72.1,29.7c5.5,0.1,9.9-4.3,10-9.8c0-0.1,0-0.2,0-0.3\n",
       "                    C81.8,14,77,9.8,71.5,10.2c-5,0.3-9,4.2-9.3,9.2c-0.2,5.5,4,10.1,9.5,10.3C71.8,29.7,72,29.7,72.1,29.7z M72.3,62.3\n",
       "                    c-5.4-0.1-9.9,4.2-10.1,9.7c0,0.2,0,0.3,0,0.5c0.2,5.4,4.5,9.7,9.9,10c5.1,0.1,9.9-4.7,10.1-9.8c0.2-5.5-4-10-9.5-10.3\n",
       "                    C72.6,62.3,72.4,62.3,72.3,62.3z M115,72.5c0.1,5.4,4.5,9.7,9.8,9.9c5.6-0.2,10-4.8,10-10.4c-0.2-5.4-4.6-9.7-10-9.7\n",
       "                    c-5.3-0.1-9.8,4.2-9.9,9.5C115,72.1,115,72.3,115,72.5z M19.5,62.3c-5.4,0.1-9.8,4.4-10,9.8c-0.1,5.1,5.2,10.4,10.2,10.3\n",
       "                    c5.6-0.2,10-4.9,9.8-10.5c-0.1-5.4-4.5-9.7-9.9-9.6C19.6,62.3,19.5,62.3,19.5,62.3z M71.8,134.6c5.9,0.2,10.3-3.9,10.4-9.6\n",
       "                    c0.5-5.5-3.6-10.4-9.1-10.8c-5.5-0.5-10.4,3.6-10.8,9.1c0,0.5,0,0.9,0,1.4c-0.2,5.3,4,9.8,9.3,10\n",
       "                    C71.6,134.6,71.7,134.6,71.8,134.6z\"/>\n",
       "            </g>\n",
       "        </svg>\n",
       "        <table>\n",
       "            <tr>\n",
       "                <td style=\"text-align: left\"><b>Python version:</b></td>\n",
       "                <td style=\"text-align: left\"><b>3.11.3</b></td>\n",
       "            </tr>\n",
       "            <tr>\n",
       "                <td style=\"text-align: left\"><b>Ray version:</b></td>\n",
       "                <td style=\"text-align: left\"><b> 2.5.1</b></td>\n",
       "            </tr>\n",
       "            <tr>\n",
       "    <td style=\"text-align: left\"><b>Dashboard:</b></td>\n",
       "    <td style=\"text-align: left\"><b><a href=\"http://127.0.0.1:8265\" target=\"_blank\">http://127.0.0.1:8265</a></b></td>\n",
       "</tr>\n",
       "\n",
       "        </table>\n",
       "    </div>\n",
       "</div>\n"
      ],
      "text/plain": [
       "RayContext(dashboard_url='127.0.0.1:8265', python_version='3.11.3', ray_version='2.5.1', ray_commit='a03efd9931128d387649dd48b0e4864b43d3bfb4', address_info={'node_ip_address': '192.168.0.162', 'raylet_ip_address': '192.168.0.162', 'redis_address': None, 'object_store_address': '/tmp/ray/session_2023-07-13_23-05-55_946605_22194/sockets/plasma_store', 'raylet_socket_name': '/tmp/ray/session_2023-07-13_23-05-55_946605_22194/sockets/raylet', 'webui_url': '127.0.0.1:8265', 'session_dir': '/tmp/ray/session_2023-07-13_23-05-55_946605_22194', 'metrics_export_port': 65300, 'gcs_address': '192.168.0.162:64120', 'address': '192.168.0.162:64120', 'dashboard_agent_listen_port': 52365, 'node_id': '1f00798fc7f46c1aa99791af8ea212f18067c1f6ab6445858b8def01'})"
      ]
     },
     "execution_count": 17,
     "metadata": {},
     "output_type": "execute_result"
    }
   ],
   "source": [
    "ray.shutdown()\n",
    "ray.init(num_gpus=1)"
   ]
  },
  {
   "cell_type": "code",
   "execution_count": 43,
   "metadata": {},
   "outputs": [],
   "source": [
    "space = {\n",
    "    \"learning_rate\": tune.loguniform(1e-2, 1),\n",
    "    \"depth\": tune.randint(4, 12),\n",
    "    \"l2_leaf_reg\": tune.randint(1, 40),\n",
    "    \"min_data_in_leaf\": tune.randint(1, 40),\n",
    "    \"iterations\": tune.randint(10, 300)\n",
    "}\n",
    "\n",
    "data = {'X_train': X_train,\n",
    "        'X_val': X_val,\n",
    "        'y_train': y_train, \n",
    "        'y_test': y_test, \n",
    "        'fit_params': {\n",
    "            'early_stopping_rounds': 2,\n",
    "            'verbose': False\n",
    "        },\n",
    "        'cat_features': categorical_columns_indices,\n",
    "        'metric': 'RMSE'\n",
    "        }\n",
    "\n",
    "hyperopt_search = HyperOptSearch(metric=\"rmse\", mode=\"min\")\n",
    "trainable_with_cpu_gpu = tune.with_resources(objective, {\"cpu\" : 4, \"gpu\": 0.2})"
   ]
  },
  {
   "cell_type": "code",
   "execution_count": 44,
   "metadata": {},
   "outputs": [
    {
     "data": {
      "text/html": [
       "<div class=\"tuneStatus\">\n",
       "  <div style=\"display: flex;flex-direction: row\">\n",
       "    <div style=\"display: flex;flex-direction: column;\">\n",
       "      <h3>Tune Status</h3>\n",
       "      <table>\n",
       "<tbody>\n",
       "<tr><td>Current time:</td><td>2023-07-13 23:22:24</td></tr>\n",
       "<tr><td>Running for: </td><td>00:00:35.14        </td></tr>\n",
       "<tr><td>Memory:      </td><td>19.4/46.8 GiB      </td></tr>\n",
       "</tbody>\n",
       "</table>\n",
       "    </div>\n",
       "    <div class=\"vDivider\"></div>\n",
       "    <div class=\"systemInfo\">\n",
       "      <h3>System Info</h3>\n",
       "      Using FIFO scheduling algorithm.<br>Logical resource usage: 4.0/24 CPUs, 0.2/1 GPUs (0.0/1.0 accelerator_type:G)\n",
       "    </div>\n",
       "    \n",
       "  </div>\n",
       "  <div class=\"hDivider\"></div>\n",
       "  <div class=\"trialStatus\">\n",
       "    <h3>Trial Status</h3>\n",
       "    <table>\n",
       "<thead>\n",
       "<tr><th>Trial name        </th><th>status    </th><th>loc                </th><th style=\"text-align: right;\">  depth</th><th style=\"text-align: right;\">  iterations</th><th style=\"text-align: right;\">  l2_leaf_reg</th><th style=\"text-align: right;\">  learning_rate</th><th style=\"text-align: right;\">  min_data_in_leaf</th><th style=\"text-align: right;\">  iter</th><th style=\"text-align: right;\">  total time (s)</th><th style=\"text-align: right;\">   rmse</th></tr>\n",
       "</thead>\n",
       "<tbody>\n",
       "<tr><td>objective_727fbc80</td><td>TERMINATED</td><td>192.168.0.162:28103</td><td style=\"text-align: right;\">     11</td><td style=\"text-align: right;\">         146</td><td style=\"text-align: right;\">           14</td><td style=\"text-align: right;\">      0.230999 </td><td style=\"text-align: right;\">                24</td><td style=\"text-align: right;\">     1</td><td style=\"text-align: right;\">        20.6355 </td><td style=\"text-align: right;\">2.20025</td></tr>\n",
       "<tr><td>objective_bd43d9c1</td><td>TERMINATED</td><td>192.168.0.162:28177</td><td style=\"text-align: right;\">     10</td><td style=\"text-align: right;\">         268</td><td style=\"text-align: right;\">           26</td><td style=\"text-align: right;\">      0.0947052</td><td style=\"text-align: right;\">                23</td><td style=\"text-align: right;\">     1</td><td style=\"text-align: right;\">        28.348  </td><td style=\"text-align: right;\">3.203  </td></tr>\n",
       "<tr><td>objective_c9c61ab1</td><td>TERMINATED</td><td>192.168.0.162:28275</td><td style=\"text-align: right;\">      5</td><td style=\"text-align: right;\">         177</td><td style=\"text-align: right;\">           30</td><td style=\"text-align: right;\">      0.265457 </td><td style=\"text-align: right;\">                 2</td><td style=\"text-align: right;\">     1</td><td style=\"text-align: right;\">         4.7307 </td><td style=\"text-align: right;\">4.09766</td></tr>\n",
       "<tr><td>objective_7e739e1b</td><td>TERMINATED</td><td>192.168.0.162:28275</td><td style=\"text-align: right;\">      5</td><td style=\"text-align: right;\">         207</td><td style=\"text-align: right;\">            1</td><td style=\"text-align: right;\">      0.133531 </td><td style=\"text-align: right;\">                14</td><td style=\"text-align: right;\">     1</td><td style=\"text-align: right;\">         5.47983</td><td style=\"text-align: right;\">3.33861</td></tr>\n",
       "<tr><td>objective_51c2423c</td><td>TERMINATED</td><td>192.168.0.162:28103</td><td style=\"text-align: right;\">     10</td><td style=\"text-align: right;\">         166</td><td style=\"text-align: right;\">           36</td><td style=\"text-align: right;\">      0.470366 </td><td style=\"text-align: right;\">                29</td><td style=\"text-align: right;\">     1</td><td style=\"text-align: right;\">        13.0838 </td><td style=\"text-align: right;\">2.32845</td></tr>\n",
       "</tbody>\n",
       "</table>\n",
       "  </div>\n",
       "</div>\n",
       "<style>\n",
       ".tuneStatus {\n",
       "  color: var(--jp-ui-font-color1);\n",
       "}\n",
       ".tuneStatus .systemInfo {\n",
       "  display: flex;\n",
       "  flex-direction: column;\n",
       "}\n",
       ".tuneStatus td {\n",
       "  white-space: nowrap;\n",
       "}\n",
       ".tuneStatus .trialStatus {\n",
       "  display: flex;\n",
       "  flex-direction: column;\n",
       "}\n",
       ".tuneStatus h3 {\n",
       "  font-weight: bold;\n",
       "}\n",
       ".tuneStatus .hDivider {\n",
       "  border-bottom-width: var(--jp-border-width);\n",
       "  border-bottom-color: var(--jp-border-color0);\n",
       "  border-bottom-style: solid;\n",
       "}\n",
       ".tuneStatus .vDivider {\n",
       "  border-left-width: var(--jp-border-width);\n",
       "  border-left-color: var(--jp-border-color0);\n",
       "  border-left-style: solid;\n",
       "  margin: 0.5em 1em 0.5em 1em;\n",
       "}\n",
       "</style>\n"
      ],
      "text/plain": [
       "<IPython.core.display.HTML object>"
      ]
     },
     "metadata": {},
     "output_type": "display_data"
    },
    {
     "data": {
      "text/html": [
       "<div class=\"trialProgress\">\n",
       "  <h3>Trial Progress</h3>\n",
       "  <table>\n",
       "<thead>\n",
       "<tr><th>Trial name        </th><th>date               </th><th>done  </th><th>hostname                    </th><th style=\"text-align: right;\">  iterations_since_restore</th><th>node_ip      </th><th style=\"text-align: right;\">  pid</th><th style=\"text-align: right;\">   rmse</th><th style=\"text-align: right;\">  time_since_restore</th><th style=\"text-align: right;\">  time_this_iter_s</th><th style=\"text-align: right;\">  time_total_s</th><th style=\"text-align: right;\">  timestamp</th><th style=\"text-align: right;\">  training_iteration</th><th>trial_id  </th></tr>\n",
       "</thead>\n",
       "<tbody>\n",
       "<tr><td>objective_51c2423c</td><td>2023-07-13_23-22-23</td><td>True  </td><td>jbalda-B660-GAMING-X-AX-DDR4</td><td style=\"text-align: right;\">                         1</td><td>192.168.0.162</td><td style=\"text-align: right;\">28103</td><td style=\"text-align: right;\">2.32845</td><td style=\"text-align: right;\">            13.0838 </td><td style=\"text-align: right;\">          13.0838 </td><td style=\"text-align: right;\">      13.0838 </td><td style=\"text-align: right;\"> 1689304943</td><td style=\"text-align: right;\">                   1</td><td>51c2423c  </td></tr>\n",
       "<tr><td>objective_727fbc80</td><td>2023-07-13_23-22-10</td><td>True  </td><td>jbalda-B660-GAMING-X-AX-DDR4</td><td style=\"text-align: right;\">                         1</td><td>192.168.0.162</td><td style=\"text-align: right;\">28103</td><td style=\"text-align: right;\">2.20025</td><td style=\"text-align: right;\">            20.6355 </td><td style=\"text-align: right;\">          20.6355 </td><td style=\"text-align: right;\">      20.6355 </td><td style=\"text-align: right;\"> 1689304930</td><td style=\"text-align: right;\">                   1</td><td>727fbc80  </td></tr>\n",
       "<tr><td>objective_7e739e1b</td><td>2023-07-13_23-22-15</td><td>True  </td><td>jbalda-B660-GAMING-X-AX-DDR4</td><td style=\"text-align: right;\">                         1</td><td>192.168.0.162</td><td style=\"text-align: right;\">28275</td><td style=\"text-align: right;\">3.33861</td><td style=\"text-align: right;\">             5.47983</td><td style=\"text-align: right;\">           5.47983</td><td style=\"text-align: right;\">       5.47983</td><td style=\"text-align: right;\"> 1689304935</td><td style=\"text-align: right;\">                   1</td><td>7e739e1b  </td></tr>\n",
       "<tr><td>objective_c9c61ab1</td><td>2023-07-13_23-22-09</td><td>True  </td><td>jbalda-B660-GAMING-X-AX-DDR4</td><td style=\"text-align: right;\">                         1</td><td>192.168.0.162</td><td style=\"text-align: right;\">28275</td><td style=\"text-align: right;\">4.09766</td><td style=\"text-align: right;\">             4.7307 </td><td style=\"text-align: right;\">           4.7307 </td><td style=\"text-align: right;\">       4.7307 </td><td style=\"text-align: right;\"> 1689304929</td><td style=\"text-align: right;\">                   1</td><td>c9c61ab1  </td></tr>\n",
       "</tbody>\n",
       "</table>\n",
       "</div>\n",
       "<style>\n",
       ".trialProgress {\n",
       "  display: flex;\n",
       "  flex-direction: column;\n",
       "  color: var(--jp-ui-font-color1);\n",
       "}\n",
       ".trialProgress h3 {\n",
       "  font-weight: bold;\n",
       "}\n",
       ".trialProgress td {\n",
       "  white-space: nowrap;\n",
       "}\n",
       "</style>\n"
      ],
      "text/plain": [
       "<IPython.core.display.HTML object>"
      ]
     },
     "metadata": {},
     "output_type": "display_data"
    },
    {
     "name": "stderr",
     "output_type": "stream",
     "text": [
      "2023-07-13 23:22:24,598\tINFO tune.py:1111 -- Total run time: 35.14 seconds (35.13 seconds for the tuning loop).\n"
     ]
    }
   ],
   "source": [
    "# Create Tuner object\n",
    "tuner = tune.Tuner(\n",
    "    tune.with_parameters(trainable_with_cpu_gpu, data=data),\n",
    "    tune_config=tune.TuneConfig(\n",
    "        search_alg=hyperopt_search,\n",
    "        max_concurrent_trials=5, \n",
    "        num_samples=5\n",
    "    ),\n",
    "    param_space=space,\n",
    ")\n",
    "\n",
    "# Fit Tuner\n",
    "results = tuner.fit()"
   ]
  },
  {
   "cell_type": "code",
   "execution_count": null,
   "metadata": {},
   "outputs": [],
   "source": [
    "best_result = results.get_best_result(metric='rmse', mode='min')\n",
    "best_result.config"
   ]
  },
  {
   "cell_type": "code",
   "execution_count": null,
   "metadata": {},
   "outputs": [],
   "source": [
    "params = best_result.config\n",
    "\n",
    "model = CatBoostRegressor(**params, eval_metric='RMSE', task_type='GPU')\n",
    "model.fit(train_pool, eval_set=val_pool, plot=True, early_stopping_rounds=5)"
   ]
  },
  {
   "cell_type": "code",
   "execution_count": null,
   "metadata": {},
   "outputs": [],
   "source": [
    "feature_importance = pd.DataFrame({'Feature': model.feature_names_, \n",
    "                                   'Importance': model.feature_importances_})\n",
    "\n",
    "feature_importance.sort_values('Importance',\n",
    "                               ascending=False).reset_index(drop=True)"
   ]
  },
  {
   "attachments": {},
   "cell_type": "markdown",
   "metadata": {},
   "source": [
    "## Catboost for combination of predictions"
   ]
  },
  {
   "cell_type": "code",
   "execution_count": null,
   "metadata": {},
   "outputs": [],
   "source": [
    "complete_events_mask = (\n",
    "    train_data.groupby(['Driver', 'EventName', 'SeasonYear'])\n",
    "    ['SessionType'].nunique() == 4\n",
    ")\n",
    "\n",
    "filtered_df = train_data.merge(complete_events_mask,\n",
    "                      left_on=['Driver', 'EventName', 'SeasonYear'], right_index=True)\n",
    "filtered_df = filtered_df.query('SessionType_y == True')\n",
    "filtered_df = (\n",
    "    filtered_df.sort_values(['SeasonYear',\n",
    "                             'LocalOrder',\n",
    "                             'Driver',\n",
    "                             'SessionType_x'], ascending=False)\n",
    "                             .reset_index(drop=True)\n",
    "                             .drop('SessionType_y', axis=1)\n",
    ")\n",
    "filtered_df = filtered_df.rename(columns={'SessionType_x': 'SessionType'})\n",
    "\n",
    "filtered_df_X = filtered_df[X_train.columns].copy()\n",
    "points = filtered_df.Points[::4]\n",
    "\n",
    "y_train_pred = model.predict(filtered_df_X)\n",
    "\n",
    "reg_features = y_train_pred.reshape(-1, 4)\n",
    "\n",
    "X_train_reg, X_val_reg, y_train_reg, y_val_reg = (\n",
    "    train_test_split(reg_features, points)\n",
    ")"
   ]
  },
  {
   "cell_type": "code",
   "execution_count": null,
   "metadata": {},
   "outputs": [],
   "source": [
    "space = {\n",
    "    \"learning_rate\": tune.loguniform(1e-2, 1),\n",
    "    \"depth\": tune.randint(4, 12),\n",
    "    \"l2_leaf_reg\": tune.randint(1, 40),\n",
    "    \"min_data_in_leaf\": tune.randint(1, 40),\n",
    "    \"iterations\": tune.randint(10, 300)\n",
    "}\n",
    "\n",
    "hyperopt_search = HyperOptSearch(metric=\"rmse\", mode=\"min\")\n",
    "trainable_with_cpu_gpu = tune.with_resources(objective, {\"cpu\" : 4, \"gpu\": 0.2})\n",
    "\n",
    "data = (X_train_reg, y_train_reg, X_val_reg, y_val_reg, None)\n",
    "\n",
    "# Create Tuner object\n",
    "tuner = tune.Tuner(\n",
    "    tune.with_parameters(trainable_with_cpu_gpu, data=data),\n",
    "    tune_config=tune.TuneConfig(\n",
    "        search_alg=hyperopt_search,\n",
    "        max_concurrent_trials=5, \n",
    "        num_samples=200\n",
    "    ),\n",
    "    param_space=space,\n",
    ")\n",
    "\n",
    "# Fit Tuner\n",
    "results = tuner.fit()"
   ]
  },
  {
   "cell_type": "code",
   "execution_count": null,
   "metadata": {},
   "outputs": [],
   "source": [
    "cb = CatBoostRegressor(**results.get_best_result(metric='rmse', mode='min').config)\n",
    "cb.fit(X_train_reg, y_train_reg, eval_set=(X_val_reg, y_val_reg))"
   ]
  },
  {
   "cell_type": "code",
   "execution_count": null,
   "metadata": {},
   "outputs": [],
   "source": [
    "cb.feature_importances_"
   ]
  },
  {
   "cell_type": "code",
   "execution_count": null,
   "metadata": {},
   "outputs": [],
   "source": [
    "reg_pred = cb.predict(X_val_reg)\n",
    "\n",
    "rmse = mean_squared_error(y_val_reg, reg_pred)**(1/2)\n",
    "rmse"
   ]
  },
  {
   "attachments": {},
   "cell_type": "markdown",
   "metadata": {},
   "source": [
    "## Testing"
   ]
  },
  {
   "cell_type": "code",
   "execution_count": null,
   "metadata": {},
   "outputs": [],
   "source": [
    "test_1 = (\n",
    "    test_data.sort_values(['DriverNumber',\n",
    "                        'LocalOrder',\n",
    "                        'SessionType'])\n",
    "                        .reset_index(drop=True)\n",
    "                        .query('LocalOrder == 5')\n",
    ")\n",
    "\n",
    "results = test_1[['Driver', 'EventName', 'SeasonYear', 'Position', 'Points']]\n",
    "\n",
    "predictions_1 = model.predict(test_1.drop(['Position', 'Points'], axis=1))\n",
    "predictions_1_reg = predictions_1.reshape(-1, 4)\n",
    "\n",
    "predictions_1 = lm.predict(predictions_1_reg)\n",
    "\n",
    "results_select = results.iloc[::4].reset_index(drop=True)\n",
    "results_select['PredictedPoints'] = predictions_1\n",
    "\n",
    "results_select.sort_values('PredictedPoints',\n",
    "                           ascending=False).reset_index(drop=True)"
   ]
  },
  {
   "attachments": {},
   "cell_type": "markdown",
   "metadata": {},
   "source": [
    "## Procedure\n",
    "\n",
    "1) Create Season from **F1Season()** class and update dataframe from **update_season_dataframe()** method\n",
    "2) For each session, pass lap data into **prepare_lap_data()** function\n",
    "3) For each row in this lap data, pass into **weather_for_racer()** function\n",
    "4) Join control message data to session data\n",
    "5) Join driver data to session data"
   ]
  }
 ],
 "metadata": {
  "kernelspec": {
   "display_name": "portfolio",
   "language": "python",
   "name": "python3"
  },
  "language_info": {
   "codemirror_mode": {
    "name": "ipython",
    "version": 3
   },
   "file_extension": ".py",
   "mimetype": "text/x-python",
   "name": "python",
   "nbconvert_exporter": "python",
   "pygments_lexer": "ipython3",
   "version": "3.11.3"
  },
  "orig_nbformat": 4
 },
 "nbformat": 4,
 "nbformat_minor": 2
}
